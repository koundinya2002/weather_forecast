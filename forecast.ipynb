{
 "cells": [
  {
   "cell_type": "code",
   "execution_count": 4,
   "id": "6ae7084b-e849-44b0-81fb-1bb2bdb31319",
   "metadata": {},
   "outputs": [],
   "source": [
    "import pandas as pd\n",
    "\n",
    "weather=pd.read_csv(\"weather.csv\", index_col=\"DATE\")"
   ]
  },
  {
   "cell_type": "code",
   "execution_count": 14,
   "id": "8cdda56d-0e0e-4953-9f88-68cc154765c5",
   "metadata": {},
   "outputs": [
    {
     "data": {
      "text/html": [
       "<div>\n",
       "<style scoped>\n",
       "    .dataframe tbody tr th:only-of-type {\n",
       "        vertical-align: middle;\n",
       "    }\n",
       "\n",
       "    .dataframe tbody tr th {\n",
       "        vertical-align: top;\n",
       "    }\n",
       "\n",
       "    .dataframe thead th {\n",
       "        text-align: right;\n",
       "    }\n",
       "</style>\n",
       "<table border=\"1\" class=\"dataframe\">\n",
       "  <thead>\n",
       "    <tr style=\"text-align: right;\">\n",
       "      <th></th>\n",
       "      <th>STATION</th>\n",
       "      <th>NAME</th>\n",
       "      <th>PRCP</th>\n",
       "      <th>TAVG</th>\n",
       "      <th>TMAX</th>\n",
       "      <th>TMIN</th>\n",
       "    </tr>\n",
       "    <tr>\n",
       "      <th>DATE</th>\n",
       "      <th></th>\n",
       "      <th></th>\n",
       "      <th></th>\n",
       "      <th></th>\n",
       "      <th></th>\n",
       "      <th></th>\n",
       "    </tr>\n",
       "  </thead>\n",
       "  <tbody>\n",
       "    <tr>\n",
       "      <th>1970-01-01</th>\n",
       "      <td>IN001080500</td>\n",
       "      <td>BEGUMPET OBSERVATORY, IN</td>\n",
       "      <td>0.0</td>\n",
       "      <td>NaN</td>\n",
       "      <td>NaN</td>\n",
       "      <td>NaN</td>\n",
       "    </tr>\n",
       "    <tr>\n",
       "      <th>1970-01-02</th>\n",
       "      <td>IN001080500</td>\n",
       "      <td>BEGUMPET OBSERVATORY, IN</td>\n",
       "      <td>0.0</td>\n",
       "      <td>NaN</td>\n",
       "      <td>NaN</td>\n",
       "      <td>NaN</td>\n",
       "    </tr>\n",
       "    <tr>\n",
       "      <th>1970-01-03</th>\n",
       "      <td>IN001080500</td>\n",
       "      <td>BEGUMPET OBSERVATORY, IN</td>\n",
       "      <td>0.0</td>\n",
       "      <td>NaN</td>\n",
       "      <td>NaN</td>\n",
       "      <td>NaN</td>\n",
       "    </tr>\n",
       "    <tr>\n",
       "      <th>1970-01-04</th>\n",
       "      <td>IN001080500</td>\n",
       "      <td>BEGUMPET OBSERVATORY, IN</td>\n",
       "      <td>0.0</td>\n",
       "      <td>NaN</td>\n",
       "      <td>NaN</td>\n",
       "      <td>NaN</td>\n",
       "    </tr>\n",
       "    <tr>\n",
       "      <th>1970-01-05</th>\n",
       "      <td>IN001080500</td>\n",
       "      <td>BEGUMPET OBSERVATORY, IN</td>\n",
       "      <td>0.0</td>\n",
       "      <td>NaN</td>\n",
       "      <td>NaN</td>\n",
       "      <td>NaN</td>\n",
       "    </tr>\n",
       "    <tr>\n",
       "      <th>...</th>\n",
       "      <td>...</td>\n",
       "      <td>...</td>\n",
       "      <td>...</td>\n",
       "      <td>...</td>\n",
       "      <td>...</td>\n",
       "      <td>...</td>\n",
       "    </tr>\n",
       "    <tr>\n",
       "      <th>2023-06-15</th>\n",
       "      <td>IN001080500</td>\n",
       "      <td>BEGUMPET OBSERVATORY, IN</td>\n",
       "      <td>NaN</td>\n",
       "      <td>92.0</td>\n",
       "      <td>102.0</td>\n",
       "      <td>80.0</td>\n",
       "    </tr>\n",
       "    <tr>\n",
       "      <th>2023-06-16</th>\n",
       "      <td>IN001080500</td>\n",
       "      <td>BEGUMPET OBSERVATORY, IN</td>\n",
       "      <td>NaN</td>\n",
       "      <td>92.0</td>\n",
       "      <td>NaN</td>\n",
       "      <td>81.0</td>\n",
       "    </tr>\n",
       "    <tr>\n",
       "      <th>2023-06-17</th>\n",
       "      <td>IN001080500</td>\n",
       "      <td>BEGUMPET OBSERVATORY, IN</td>\n",
       "      <td>NaN</td>\n",
       "      <td>91.0</td>\n",
       "      <td>103.0</td>\n",
       "      <td>81.0</td>\n",
       "    </tr>\n",
       "    <tr>\n",
       "      <th>2023-06-18</th>\n",
       "      <td>IN001080500</td>\n",
       "      <td>BEGUMPET OBSERVATORY, IN</td>\n",
       "      <td>NaN</td>\n",
       "      <td>92.0</td>\n",
       "      <td>102.0</td>\n",
       "      <td>82.0</td>\n",
       "    </tr>\n",
       "    <tr>\n",
       "      <th>2023-06-19</th>\n",
       "      <td>IN001080500</td>\n",
       "      <td>BEGUMPET OBSERVATORY, IN</td>\n",
       "      <td>NaN</td>\n",
       "      <td>90.0</td>\n",
       "      <td>103.0</td>\n",
       "      <td>83.0</td>\n",
       "    </tr>\n",
       "  </tbody>\n",
       "</table>\n",
       "<p>18475 rows × 6 columns</p>\n",
       "</div>"
      ],
      "text/plain": [
       "                STATION                      NAME  PRCP  TAVG   TMAX  TMIN\n",
       "DATE                                                                      \n",
       "1970-01-01  IN001080500  BEGUMPET OBSERVATORY, IN   0.0   NaN    NaN   NaN\n",
       "1970-01-02  IN001080500  BEGUMPET OBSERVATORY, IN   0.0   NaN    NaN   NaN\n",
       "1970-01-03  IN001080500  BEGUMPET OBSERVATORY, IN   0.0   NaN    NaN   NaN\n",
       "1970-01-04  IN001080500  BEGUMPET OBSERVATORY, IN   0.0   NaN    NaN   NaN\n",
       "1970-01-05  IN001080500  BEGUMPET OBSERVATORY, IN   0.0   NaN    NaN   NaN\n",
       "...                 ...                       ...   ...   ...    ...   ...\n",
       "2023-06-15  IN001080500  BEGUMPET OBSERVATORY, IN   NaN  92.0  102.0  80.0\n",
       "2023-06-16  IN001080500  BEGUMPET OBSERVATORY, IN   NaN  92.0    NaN  81.0\n",
       "2023-06-17  IN001080500  BEGUMPET OBSERVATORY, IN   NaN  91.0  103.0  81.0\n",
       "2023-06-18  IN001080500  BEGUMPET OBSERVATORY, IN   NaN  92.0  102.0  82.0\n",
       "2023-06-19  IN001080500  BEGUMPET OBSERVATORY, IN   NaN  90.0  103.0  83.0\n",
       "\n",
       "[18475 rows x 6 columns]"
      ]
     },
     "execution_count": 14,
     "metadata": {},
     "output_type": "execute_result"
    }
   ],
   "source": [
    "weather"
   ]
  },
  {
   "cell_type": "code",
   "execution_count": 15,
   "id": "470649ef-997d-4f38-8b30-b926e5ba0945",
   "metadata": {},
   "outputs": [
    {
     "data": {
      "text/plain": [
       "STATION    0.000000\n",
       "NAME       0.000000\n",
       "PRCP       0.401624\n",
       "TAVG       0.019756\n",
       "TMAX       0.194696\n",
       "TMIN       0.300839\n",
       "dtype: float64"
      ]
     },
     "execution_count": 15,
     "metadata": {},
     "output_type": "execute_result"
    }
   ],
   "source": [
    "weather.apply(pd.isnull).sum()/weather.shape[0]"
   ]
  },
  {
   "cell_type": "code",
   "execution_count": 16,
   "id": "106a03d3-dbbd-4cb3-a07d-495363aeaf58",
   "metadata": {},
   "outputs": [],
   "source": [
    "core_weather=weather[[\"PRCP\",\"TAVG\",\"TMAX\",\"TMIN\"]].copy()"
   ]
  },
  {
   "cell_type": "code",
   "execution_count": 17,
   "id": "963ceba4-ae4a-4870-a2d7-799da563e03a",
   "metadata": {},
   "outputs": [],
   "source": [
    "core_weather.columns=[\"prcp\",\"tavg\",\"tmax\",\"tmin\"]"
   ]
  },
  {
   "cell_type": "code",
   "execution_count": 23,
   "id": "26f5bd38-f647-413b-91e3-68e03e42166b",
   "metadata": {},
   "outputs": [
    {
     "data": {
      "text/html": [
       "<div>\n",
       "<style scoped>\n",
       "    .dataframe tbody tr th:only-of-type {\n",
       "        vertical-align: middle;\n",
       "    }\n",
       "\n",
       "    .dataframe tbody tr th {\n",
       "        vertical-align: top;\n",
       "    }\n",
       "\n",
       "    .dataframe thead th {\n",
       "        text-align: right;\n",
       "    }\n",
       "</style>\n",
       "<table border=\"1\" class=\"dataframe\">\n",
       "  <thead>\n",
       "    <tr style=\"text-align: right;\">\n",
       "      <th></th>\n",
       "      <th>prcp</th>\n",
       "      <th>tavg</th>\n",
       "      <th>tmax</th>\n",
       "      <th>tmin</th>\n",
       "    </tr>\n",
       "    <tr>\n",
       "      <th>DATE</th>\n",
       "      <th></th>\n",
       "      <th></th>\n",
       "      <th></th>\n",
       "      <th></th>\n",
       "    </tr>\n",
       "  </thead>\n",
       "  <tbody>\n",
       "    <tr>\n",
       "      <th>1970-01-01</th>\n",
       "      <td>0.0</td>\n",
       "      <td>NaN</td>\n",
       "      <td>NaN</td>\n",
       "      <td>NaN</td>\n",
       "    </tr>\n",
       "    <tr>\n",
       "      <th>1970-01-02</th>\n",
       "      <td>0.0</td>\n",
       "      <td>NaN</td>\n",
       "      <td>NaN</td>\n",
       "      <td>NaN</td>\n",
       "    </tr>\n",
       "    <tr>\n",
       "      <th>1970-01-03</th>\n",
       "      <td>0.0</td>\n",
       "      <td>NaN</td>\n",
       "      <td>NaN</td>\n",
       "      <td>NaN</td>\n",
       "    </tr>\n",
       "    <tr>\n",
       "      <th>1970-01-04</th>\n",
       "      <td>0.0</td>\n",
       "      <td>NaN</td>\n",
       "      <td>NaN</td>\n",
       "      <td>NaN</td>\n",
       "    </tr>\n",
       "    <tr>\n",
       "      <th>1970-01-05</th>\n",
       "      <td>0.0</td>\n",
       "      <td>NaN</td>\n",
       "      <td>NaN</td>\n",
       "      <td>NaN</td>\n",
       "    </tr>\n",
       "    <tr>\n",
       "      <th>...</th>\n",
       "      <td>...</td>\n",
       "      <td>...</td>\n",
       "      <td>...</td>\n",
       "      <td>...</td>\n",
       "    </tr>\n",
       "    <tr>\n",
       "      <th>2023-06-15</th>\n",
       "      <td>NaN</td>\n",
       "      <td>92.0</td>\n",
       "      <td>102.0</td>\n",
       "      <td>80.0</td>\n",
       "    </tr>\n",
       "    <tr>\n",
       "      <th>2023-06-16</th>\n",
       "      <td>NaN</td>\n",
       "      <td>92.0</td>\n",
       "      <td>NaN</td>\n",
       "      <td>81.0</td>\n",
       "    </tr>\n",
       "    <tr>\n",
       "      <th>2023-06-17</th>\n",
       "      <td>NaN</td>\n",
       "      <td>91.0</td>\n",
       "      <td>103.0</td>\n",
       "      <td>81.0</td>\n",
       "    </tr>\n",
       "    <tr>\n",
       "      <th>2023-06-18</th>\n",
       "      <td>NaN</td>\n",
       "      <td>92.0</td>\n",
       "      <td>102.0</td>\n",
       "      <td>82.0</td>\n",
       "    </tr>\n",
       "    <tr>\n",
       "      <th>2023-06-19</th>\n",
       "      <td>NaN</td>\n",
       "      <td>90.0</td>\n",
       "      <td>103.0</td>\n",
       "      <td>83.0</td>\n",
       "    </tr>\n",
       "  </tbody>\n",
       "</table>\n",
       "<p>18475 rows × 4 columns</p>\n",
       "</div>"
      ],
      "text/plain": [
       "            prcp  tavg   tmax  tmin\n",
       "DATE                               \n",
       "1970-01-01   0.0   NaN    NaN   NaN\n",
       "1970-01-02   0.0   NaN    NaN   NaN\n",
       "1970-01-03   0.0   NaN    NaN   NaN\n",
       "1970-01-04   0.0   NaN    NaN   NaN\n",
       "1970-01-05   0.0   NaN    NaN   NaN\n",
       "...          ...   ...    ...   ...\n",
       "2023-06-15   NaN  92.0  102.0  80.0\n",
       "2023-06-16   NaN  92.0    NaN  81.0\n",
       "2023-06-17   NaN  91.0  103.0  81.0\n",
       "2023-06-18   NaN  92.0  102.0  82.0\n",
       "2023-06-19   NaN  90.0  103.0  83.0\n",
       "\n",
       "[18475 rows x 4 columns]"
      ]
     },
     "execution_count": 23,
     "metadata": {},
     "output_type": "execute_result"
    }
   ],
   "source": [
    "core_weather"
   ]
  },
  {
   "cell_type": "code",
   "execution_count": 24,
   "id": "7ec3a40d-69cf-4353-b0a3-1cfcbdaf377b",
   "metadata": {},
   "outputs": [
    {
     "data": {
      "text/plain": [
       "prcp    0.401624\n",
       "tavg    0.019756\n",
       "tmax    0.194696\n",
       "tmin    0.300839\n",
       "dtype: float64"
      ]
     },
     "execution_count": 24,
     "metadata": {},
     "output_type": "execute_result"
    }
   ],
   "source": [
    "core_weather.apply(pd.isnull).sum()/core_weather.shape[0]"
   ]
  },
  {
   "cell_type": "code",
   "execution_count": 18,
   "id": "75c3e65f-c2d9-4d26-bcc3-c8c949ed6967",
   "metadata": {},
   "outputs": [
    {
     "data": {
      "text/html": [
       "<div>\n",
       "<style scoped>\n",
       "    .dataframe tbody tr th:only-of-type {\n",
       "        vertical-align: middle;\n",
       "    }\n",
       "\n",
       "    .dataframe tbody tr th {\n",
       "        vertical-align: top;\n",
       "    }\n",
       "\n",
       "    .dataframe thead th {\n",
       "        text-align: right;\n",
       "    }\n",
       "</style>\n",
       "<table border=\"1\" class=\"dataframe\">\n",
       "  <thead>\n",
       "    <tr style=\"text-align: right;\">\n",
       "      <th></th>\n",
       "      <th>prcp</th>\n",
       "      <th>tavg</th>\n",
       "      <th>tmax</th>\n",
       "      <th>tmin</th>\n",
       "    </tr>\n",
       "    <tr>\n",
       "      <th>DATE</th>\n",
       "      <th></th>\n",
       "      <th></th>\n",
       "      <th></th>\n",
       "      <th></th>\n",
       "    </tr>\n",
       "  </thead>\n",
       "  <tbody>\n",
       "    <tr>\n",
       "      <th>1973-01-01</th>\n",
       "      <td>NaN</td>\n",
       "      <td>73.0</td>\n",
       "      <td>NaN</td>\n",
       "      <td>NaN</td>\n",
       "    </tr>\n",
       "    <tr>\n",
       "      <th>1973-01-02</th>\n",
       "      <td>NaN</td>\n",
       "      <td>74.0</td>\n",
       "      <td>NaN</td>\n",
       "      <td>NaN</td>\n",
       "    </tr>\n",
       "    <tr>\n",
       "      <th>1973-01-03</th>\n",
       "      <td>NaN</td>\n",
       "      <td>69.0</td>\n",
       "      <td>NaN</td>\n",
       "      <td>NaN</td>\n",
       "    </tr>\n",
       "    <tr>\n",
       "      <th>1973-01-04</th>\n",
       "      <td>NaN</td>\n",
       "      <td>75.0</td>\n",
       "      <td>88.0</td>\n",
       "      <td>NaN</td>\n",
       "    </tr>\n",
       "    <tr>\n",
       "      <th>1973-01-05</th>\n",
       "      <td>NaN</td>\n",
       "      <td>75.0</td>\n",
       "      <td>88.0</td>\n",
       "      <td>61.0</td>\n",
       "    </tr>\n",
       "    <tr>\n",
       "      <th>...</th>\n",
       "      <td>...</td>\n",
       "      <td>...</td>\n",
       "      <td>...</td>\n",
       "      <td>...</td>\n",
       "    </tr>\n",
       "    <tr>\n",
       "      <th>2023-06-15</th>\n",
       "      <td>NaN</td>\n",
       "      <td>92.0</td>\n",
       "      <td>102.0</td>\n",
       "      <td>80.0</td>\n",
       "    </tr>\n",
       "    <tr>\n",
       "      <th>2023-06-16</th>\n",
       "      <td>NaN</td>\n",
       "      <td>92.0</td>\n",
       "      <td>NaN</td>\n",
       "      <td>81.0</td>\n",
       "    </tr>\n",
       "    <tr>\n",
       "      <th>2023-06-17</th>\n",
       "      <td>NaN</td>\n",
       "      <td>91.0</td>\n",
       "      <td>103.0</td>\n",
       "      <td>81.0</td>\n",
       "    </tr>\n",
       "    <tr>\n",
       "      <th>2023-06-18</th>\n",
       "      <td>NaN</td>\n",
       "      <td>92.0</td>\n",
       "      <td>102.0</td>\n",
       "      <td>82.0</td>\n",
       "    </tr>\n",
       "    <tr>\n",
       "      <th>2023-06-19</th>\n",
       "      <td>NaN</td>\n",
       "      <td>90.0</td>\n",
       "      <td>103.0</td>\n",
       "      <td>83.0</td>\n",
       "    </tr>\n",
       "  </tbody>\n",
       "</table>\n",
       "<p>7420 rows × 4 columns</p>\n",
       "</div>"
      ],
      "text/plain": [
       "            prcp  tavg   tmax  tmin\n",
       "DATE                               \n",
       "1973-01-01   NaN  73.0    NaN   NaN\n",
       "1973-01-02   NaN  74.0    NaN   NaN\n",
       "1973-01-03   NaN  69.0    NaN   NaN\n",
       "1973-01-04   NaN  75.0   88.0   NaN\n",
       "1973-01-05   NaN  75.0   88.0  61.0\n",
       "...          ...   ...    ...   ...\n",
       "2023-06-15   NaN  92.0  102.0  80.0\n",
       "2023-06-16   NaN  92.0    NaN  81.0\n",
       "2023-06-17   NaN  91.0  103.0  81.0\n",
       "2023-06-18   NaN  92.0  102.0  82.0\n",
       "2023-06-19   NaN  90.0  103.0  83.0\n",
       "\n",
       "[7420 rows x 4 columns]"
      ]
     },
     "execution_count": 18,
     "metadata": {},
     "output_type": "execute_result"
    }
   ],
   "source": [
    "core_weather[pd.isnull(core_weather[\"prcp\"])]"
   ]
  },
  {
   "cell_type": "code",
   "execution_count": 19,
   "id": "689122a7-0bdc-46e8-a1c2-4f58fff60db9",
   "metadata": {},
   "outputs": [
    {
     "data": {
      "text/plain": [
       "prcp\n",
       "0.00    7892\n",
       "0.02     289\n",
       "0.04     274\n",
       "0.01     251\n",
       "0.08     248\n",
       "        ... \n",
       "1.98       1\n",
       "1.95       1\n",
       "0.84       1\n",
       "2.93       1\n",
       "3.58       1\n",
       "Name: count, Length: 218, dtype: int64"
      ]
     },
     "execution_count": 19,
     "metadata": {},
     "output_type": "execute_result"
    }
   ],
   "source": [
    "core_weather[\"prcp\"].value_counts()"
   ]
  },
  {
   "cell_type": "code",
   "execution_count": 20,
   "id": "aa20c5f9-0a10-411b-8956-4933951e75d2",
   "metadata": {},
   "outputs": [],
   "source": [
    "core_weather[\"prcp\"]=core_weather[\"prcp\"].fillna(0)"
   ]
  },
  {
   "cell_type": "code",
   "execution_count": 21,
   "id": "8449df14-fa49-4eee-a886-0715380636fe",
   "metadata": {},
   "outputs": [
    {
     "data": {
      "text/html": [
       "<div>\n",
       "<style scoped>\n",
       "    .dataframe tbody tr th:only-of-type {\n",
       "        vertical-align: middle;\n",
       "    }\n",
       "\n",
       "    .dataframe tbody tr th {\n",
       "        vertical-align: top;\n",
       "    }\n",
       "\n",
       "    .dataframe thead th {\n",
       "        text-align: right;\n",
       "    }\n",
       "</style>\n",
       "<table border=\"1\" class=\"dataframe\">\n",
       "  <thead>\n",
       "    <tr style=\"text-align: right;\">\n",
       "      <th></th>\n",
       "      <th>prcp</th>\n",
       "      <th>tavg</th>\n",
       "      <th>tmax</th>\n",
       "      <th>tmin</th>\n",
       "    </tr>\n",
       "    <tr>\n",
       "      <th>DATE</th>\n",
       "      <th></th>\n",
       "      <th></th>\n",
       "      <th></th>\n",
       "      <th></th>\n",
       "    </tr>\n",
       "  </thead>\n",
       "  <tbody>\n",
       "    <tr>\n",
       "      <th>1970-01-01</th>\n",
       "      <td>0.0</td>\n",
       "      <td>NaN</td>\n",
       "      <td>NaN</td>\n",
       "      <td>NaN</td>\n",
       "    </tr>\n",
       "    <tr>\n",
       "      <th>1970-01-02</th>\n",
       "      <td>0.0</td>\n",
       "      <td>NaN</td>\n",
       "      <td>NaN</td>\n",
       "      <td>NaN</td>\n",
       "    </tr>\n",
       "    <tr>\n",
       "      <th>1970-01-03</th>\n",
       "      <td>0.0</td>\n",
       "      <td>NaN</td>\n",
       "      <td>NaN</td>\n",
       "      <td>NaN</td>\n",
       "    </tr>\n",
       "    <tr>\n",
       "      <th>1970-01-04</th>\n",
       "      <td>0.0</td>\n",
       "      <td>NaN</td>\n",
       "      <td>NaN</td>\n",
       "      <td>NaN</td>\n",
       "    </tr>\n",
       "    <tr>\n",
       "      <th>1970-01-05</th>\n",
       "      <td>0.0</td>\n",
       "      <td>NaN</td>\n",
       "      <td>NaN</td>\n",
       "      <td>NaN</td>\n",
       "    </tr>\n",
       "    <tr>\n",
       "      <th>...</th>\n",
       "      <td>...</td>\n",
       "      <td>...</td>\n",
       "      <td>...</td>\n",
       "      <td>...</td>\n",
       "    </tr>\n",
       "    <tr>\n",
       "      <th>2023-05-31</th>\n",
       "      <td>0.0</td>\n",
       "      <td>0.004871</td>\n",
       "      <td>NaN</td>\n",
       "      <td>0.004222</td>\n",
       "    </tr>\n",
       "    <tr>\n",
       "      <th>2023-06-01</th>\n",
       "      <td>0.0</td>\n",
       "      <td>0.004980</td>\n",
       "      <td>NaN</td>\n",
       "      <td>0.004222</td>\n",
       "    </tr>\n",
       "    <tr>\n",
       "      <th>2023-06-03</th>\n",
       "      <td>0.0</td>\n",
       "      <td>0.005088</td>\n",
       "      <td>NaN</td>\n",
       "      <td>0.004655</td>\n",
       "    </tr>\n",
       "    <tr>\n",
       "      <th>2023-06-06</th>\n",
       "      <td>0.0</td>\n",
       "      <td>0.004980</td>\n",
       "      <td>NaN</td>\n",
       "      <td>0.004384</td>\n",
       "    </tr>\n",
       "    <tr>\n",
       "      <th>2023-06-16</th>\n",
       "      <td>0.0</td>\n",
       "      <td>0.004980</td>\n",
       "      <td>NaN</td>\n",
       "      <td>0.004384</td>\n",
       "    </tr>\n",
       "  </tbody>\n",
       "</table>\n",
       "<p>3597 rows × 4 columns</p>\n",
       "</div>"
      ],
      "text/plain": [
       "            prcp      tavg  tmax      tmin\n",
       "DATE                                      \n",
       "1970-01-01   0.0       NaN   NaN       NaN\n",
       "1970-01-02   0.0       NaN   NaN       NaN\n",
       "1970-01-03   0.0       NaN   NaN       NaN\n",
       "1970-01-04   0.0       NaN   NaN       NaN\n",
       "1970-01-05   0.0       NaN   NaN       NaN\n",
       "...          ...       ...   ...       ...\n",
       "2023-05-31   0.0  0.004871   NaN  0.004222\n",
       "2023-06-01   0.0  0.004980   NaN  0.004222\n",
       "2023-06-03   0.0  0.005088   NaN  0.004655\n",
       "2023-06-06   0.0  0.004980   NaN  0.004384\n",
       "2023-06-16   0.0  0.004980   NaN  0.004384\n",
       "\n",
       "[3597 rows x 4 columns]"
      ]
     },
     "execution_count": 21,
     "metadata": {},
     "output_type": "execute_result"
    }
   ],
   "source": [
    "core_weather[pd.isnull(core_weather[\"tmax\"])]/core_weather.shape[0]"
   ]
  },
  {
   "cell_type": "code",
   "execution_count": 22,
   "id": "1b8fb175-00c4-4ebb-b41f-6659c13ab0c7",
   "metadata": {},
   "outputs": [],
   "source": [
    "core_weather=core_weather.fillna(method=\"ffill\")"
   ]
  },
  {
   "cell_type": "code",
   "execution_count": 23,
   "id": "bd1ba19d-5bbb-4d6c-a327-9dc36c23b68d",
   "metadata": {},
   "outputs": [
    {
     "data": {
      "text/plain": [
       "prcp    0.000000\n",
       "tavg    0.019756\n",
       "tmax    0.019919\n",
       "tmin    0.019973\n",
       "dtype: float64"
      ]
     },
     "execution_count": 23,
     "metadata": {},
     "output_type": "execute_result"
    }
   ],
   "source": [
    "core_weather.apply(pd.isnull).sum()/core_weather.shape[0]"
   ]
  },
  {
   "cell_type": "code",
   "execution_count": 24,
   "id": "60dbeaf7-b239-4801-b8cc-d38d6963a104",
   "metadata": {},
   "outputs": [],
   "source": [
    "core_weather=core_weather.fillna(method=\"bfill\")"
   ]
  },
  {
   "cell_type": "code",
   "execution_count": 25,
   "id": "9cbc33d2-69e1-4345-9e36-49a193a6e200",
   "metadata": {},
   "outputs": [
    {
     "data": {
      "text/plain": [
       "prcp    0.0\n",
       "tavg    0.0\n",
       "tmax    0.0\n",
       "tmin    0.0\n",
       "dtype: float64"
      ]
     },
     "execution_count": 25,
     "metadata": {},
     "output_type": "execute_result"
    }
   ],
   "source": [
    "core_weather.apply(pd.isnull).sum()/core_weather.shape[0]"
   ]
  },
  {
   "cell_type": "code",
   "execution_count": 26,
   "id": "2efb2f27-0b78-4a3f-97a0-0b70c65aa001",
   "metadata": {},
   "outputs": [
    {
     "data": {
      "text/html": [
       "<div>\n",
       "<style scoped>\n",
       "    .dataframe tbody tr th:only-of-type {\n",
       "        vertical-align: middle;\n",
       "    }\n",
       "\n",
       "    .dataframe tbody tr th {\n",
       "        vertical-align: top;\n",
       "    }\n",
       "\n",
       "    .dataframe thead th {\n",
       "        text-align: right;\n",
       "    }\n",
       "</style>\n",
       "<table border=\"1\" class=\"dataframe\">\n",
       "  <thead>\n",
       "    <tr style=\"text-align: right;\">\n",
       "      <th></th>\n",
       "      <th>prcp</th>\n",
       "      <th>tavg</th>\n",
       "      <th>tmax</th>\n",
       "      <th>tmin</th>\n",
       "    </tr>\n",
       "    <tr>\n",
       "      <th>DATE</th>\n",
       "      <th></th>\n",
       "      <th></th>\n",
       "      <th></th>\n",
       "      <th></th>\n",
       "    </tr>\n",
       "  </thead>\n",
       "  <tbody>\n",
       "    <tr>\n",
       "      <th>1970-01-01</th>\n",
       "      <td>0.0</td>\n",
       "      <td>73.0</td>\n",
       "      <td>88.0</td>\n",
       "      <td>61.0</td>\n",
       "    </tr>\n",
       "    <tr>\n",
       "      <th>1970-01-02</th>\n",
       "      <td>0.0</td>\n",
       "      <td>73.0</td>\n",
       "      <td>88.0</td>\n",
       "      <td>61.0</td>\n",
       "    </tr>\n",
       "    <tr>\n",
       "      <th>1970-01-03</th>\n",
       "      <td>0.0</td>\n",
       "      <td>73.0</td>\n",
       "      <td>88.0</td>\n",
       "      <td>61.0</td>\n",
       "    </tr>\n",
       "    <tr>\n",
       "      <th>1970-01-04</th>\n",
       "      <td>0.0</td>\n",
       "      <td>73.0</td>\n",
       "      <td>88.0</td>\n",
       "      <td>61.0</td>\n",
       "    </tr>\n",
       "    <tr>\n",
       "      <th>1970-01-05</th>\n",
       "      <td>0.0</td>\n",
       "      <td>73.0</td>\n",
       "      <td>88.0</td>\n",
       "      <td>61.0</td>\n",
       "    </tr>\n",
       "    <tr>\n",
       "      <th>...</th>\n",
       "      <td>...</td>\n",
       "      <td>...</td>\n",
       "      <td>...</td>\n",
       "      <td>...</td>\n",
       "    </tr>\n",
       "    <tr>\n",
       "      <th>2023-06-15</th>\n",
       "      <td>0.0</td>\n",
       "      <td>92.0</td>\n",
       "      <td>102.0</td>\n",
       "      <td>80.0</td>\n",
       "    </tr>\n",
       "    <tr>\n",
       "      <th>2023-06-16</th>\n",
       "      <td>0.0</td>\n",
       "      <td>92.0</td>\n",
       "      <td>102.0</td>\n",
       "      <td>81.0</td>\n",
       "    </tr>\n",
       "    <tr>\n",
       "      <th>2023-06-17</th>\n",
       "      <td>0.0</td>\n",
       "      <td>91.0</td>\n",
       "      <td>103.0</td>\n",
       "      <td>81.0</td>\n",
       "    </tr>\n",
       "    <tr>\n",
       "      <th>2023-06-18</th>\n",
       "      <td>0.0</td>\n",
       "      <td>92.0</td>\n",
       "      <td>102.0</td>\n",
       "      <td>82.0</td>\n",
       "    </tr>\n",
       "    <tr>\n",
       "      <th>2023-06-19</th>\n",
       "      <td>0.0</td>\n",
       "      <td>90.0</td>\n",
       "      <td>103.0</td>\n",
       "      <td>83.0</td>\n",
       "    </tr>\n",
       "  </tbody>\n",
       "</table>\n",
       "<p>18475 rows × 4 columns</p>\n",
       "</div>"
      ],
      "text/plain": [
       "            prcp  tavg   tmax  tmin\n",
       "DATE                               \n",
       "1970-01-01   0.0  73.0   88.0  61.0\n",
       "1970-01-02   0.0  73.0   88.0  61.0\n",
       "1970-01-03   0.0  73.0   88.0  61.0\n",
       "1970-01-04   0.0  73.0   88.0  61.0\n",
       "1970-01-05   0.0  73.0   88.0  61.0\n",
       "...          ...   ...    ...   ...\n",
       "2023-06-15   0.0  92.0  102.0  80.0\n",
       "2023-06-16   0.0  92.0  102.0  81.0\n",
       "2023-06-17   0.0  91.0  103.0  81.0\n",
       "2023-06-18   0.0  92.0  102.0  82.0\n",
       "2023-06-19   0.0  90.0  103.0  83.0\n",
       "\n",
       "[18475 rows x 4 columns]"
      ]
     },
     "execution_count": 26,
     "metadata": {},
     "output_type": "execute_result"
    }
   ],
   "source": [
    "core_weather"
   ]
  },
  {
   "cell_type": "code",
   "execution_count": 27,
   "id": "90e5db04-b62e-433e-b3c4-e28806a43baf",
   "metadata": {},
   "outputs": [
    {
     "data": {
      "text/plain": [
       "prcp    float64\n",
       "tavg    float64\n",
       "tmax    float64\n",
       "tmin    float64\n",
       "dtype: object"
      ]
     },
     "execution_count": 27,
     "metadata": {},
     "output_type": "execute_result"
    }
   ],
   "source": [
    "core_weather.dtypes"
   ]
  },
  {
   "cell_type": "code",
   "execution_count": 28,
   "id": "99fe74e4-4453-4ca1-bd5c-a733d72ec814",
   "metadata": {},
   "outputs": [
    {
     "data": {
      "text/plain": [
       "Index(['1970-01-01', '1970-01-02', '1970-01-03', '1970-01-04', '1970-01-05',\n",
       "       '1970-01-06', '1970-01-07', '1970-01-08', '1970-01-09', '1970-01-10',\n",
       "       ...\n",
       "       '2023-06-10', '2023-06-11', '2023-06-12', '2023-06-13', '2023-06-14',\n",
       "       '2023-06-15', '2023-06-16', '2023-06-17', '2023-06-18', '2023-06-19'],\n",
       "      dtype='object', name='DATE', length=18475)"
      ]
     },
     "execution_count": 28,
     "metadata": {},
     "output_type": "execute_result"
    }
   ],
   "source": [
    "core_weather.index"
   ]
  },
  {
   "cell_type": "code",
   "execution_count": 29,
   "id": "249303df-f926-4c66-9f34-a72f104c3549",
   "metadata": {},
   "outputs": [],
   "source": [
    "core_weather.index=pd.to_datetime(core_weather.index)"
   ]
  },
  {
   "cell_type": "code",
   "execution_count": 30,
   "id": "d689b43e-c392-40e6-86a6-444bc233476e",
   "metadata": {},
   "outputs": [
    {
     "data": {
      "text/plain": [
       "DatetimeIndex(['1970-01-01', '1970-01-02', '1970-01-03', '1970-01-04',\n",
       "               '1970-01-05', '1970-01-06', '1970-01-07', '1970-01-08',\n",
       "               '1970-01-09', '1970-01-10',\n",
       "               ...\n",
       "               '2023-06-10', '2023-06-11', '2023-06-12', '2023-06-13',\n",
       "               '2023-06-14', '2023-06-15', '2023-06-16', '2023-06-17',\n",
       "               '2023-06-18', '2023-06-19'],\n",
       "              dtype='datetime64[ns]', name='DATE', length=18475, freq=None)"
      ]
     },
     "execution_count": 30,
     "metadata": {},
     "output_type": "execute_result"
    }
   ],
   "source": [
    "core_weather.index"
   ]
  },
  {
   "cell_type": "code",
   "execution_count": 31,
   "id": "22faac40-ed21-4a5c-ba14-ae17ff680373",
   "metadata": {},
   "outputs": [
    {
     "data": {
      "text/plain": [
       "Index([1970, 1970, 1970, 1970, 1970, 1970, 1970, 1970, 1970, 1970,\n",
       "       ...\n",
       "       2023, 2023, 2023, 2023, 2023, 2023, 2023, 2023, 2023, 2023],\n",
       "      dtype='int32', name='DATE', length=18475)"
      ]
     },
     "execution_count": 31,
     "metadata": {},
     "output_type": "execute_result"
    }
   ],
   "source": [
    "core_weather.index.year"
   ]
  },
  {
   "cell_type": "code",
   "execution_count": 32,
   "id": "9e638f7b-83a5-4188-9143-907b74f80ab9",
   "metadata": {},
   "outputs": [
    {
     "data": {
      "text/plain": [
       "prcp    0\n",
       "tavg    0\n",
       "tmax    0\n",
       "tmin    0\n",
       "dtype: int64"
      ]
     },
     "execution_count": 32,
     "metadata": {},
     "output_type": "execute_result"
    }
   ],
   "source": [
    "core_weather.apply(lambda x:(x==9999).sum())"
   ]
  },
  {
   "cell_type": "code",
   "execution_count": 33,
   "id": "9f579816-d379-4a1e-b89b-ed9f4e8535ba",
   "metadata": {},
   "outputs": [
    {
     "data": {
      "text/plain": [
       "<Axes: xlabel='DATE'>"
      ]
     },
     "execution_count": 33,
     "metadata": {},
     "output_type": "execute_result"
    },
    {
     "data": {
      "image/png": "[encoded data removed]",
      "text/plain": [
       "<Figure size 640x480 with 1 Axes>"
      ]
     },
     "metadata": {},
     "output_type": "display_data"
    }
   ],
   "source": [
    "core_weather[[\"tmax\",\"tmin\"]].plot()"
   ]
  },
  {
   "cell_type": "code",
   "execution_count": 34,
   "id": "558aefa9-59f5-44e7-9058-923fade4aed2",
   "metadata": {},
   "outputs": [
    {
     "data": {
      "text/plain": [
       "DATE\n",
       "1970    365\n",
       "1973    324\n",
       "1974    325\n",
       "1975    308\n",
       "1976    314\n",
       "1977    344\n",
       "1978    364\n",
       "1979    360\n",
       "1980    365\n",
       "1981    363\n",
       "1982    350\n",
       "1983    356\n",
       "1984    364\n",
       "1985    362\n",
       "1986    359\n",
       "1987    361\n",
       "1988    353\n",
       "1989    361\n",
       "1990    352\n",
       "1991    359\n",
       "1992    359\n",
       "1993    362\n",
       "1994    360\n",
       "1995    361\n",
       "1996    364\n",
       "1997    365\n",
       "1998    365\n",
       "1999    364\n",
       "2000    366\n",
       "2001    365\n",
       "2002    364\n",
       "2003    364\n",
       "2004    366\n",
       "2005    365\n",
       "2006    365\n",
       "2007    365\n",
       "2008    366\n",
       "2009    365\n",
       "2010    365\n",
       "2011    365\n",
       "2012    366\n",
       "2013    365\n",
       "2014    365\n",
       "2015    365\n",
       "2016    366\n",
       "2017    365\n",
       "2018    365\n",
       "2019    365\n",
       "2020    366\n",
       "2021    362\n",
       "2022    365\n",
       "2023    170\n",
       "Name: count, dtype: int64"
      ]
     },
     "execution_count": 34,
     "metadata": {},
     "output_type": "execute_result"
    }
   ],
   "source": [
    "core_weather.index.year.value_counts().sort_index()"
   ]
  },
  {
   "cell_type": "code",
   "execution_count": 35,
   "id": "e376b3e4-f906-4e92-aee1-a25317e4dc68",
   "metadata": {},
   "outputs": [
    {
     "data": {
      "text/plain": [
       "<Axes: xlabel='DATE'>"
      ]
     },
     "execution_count": 35,
     "metadata": {},
     "output_type": "execute_result"
    },
    {
     "data": {
      "image/png": "[encoded data removed]",
      "text/plain": [
       "<Figure size 640x480 with 1 Axes>"
      ]
     },
     "metadata": {},
     "output_type": "display_data"
    }
   ],
   "source": [
    "core_weather[[\"prcp\"]].plot()"
   ]
  },
  {
   "cell_type": "code",
   "execution_count": 36,
   "id": "c20a67d7-ae50-43eb-944a-b6fbbeb9f2f9",
   "metadata": {},
   "outputs": [
    {
     "data": {
      "text/plain": [
       "DATE\n",
       "1970    45.18\n",
       "1973    16.58\n",
       "1974    10.69\n",
       "1975     0.00\n",
       "1976     1.28\n",
       "1977    10.16\n",
       "1978    26.85\n",
       "1979    24.18\n",
       "1980    15.51\n",
       "1981    22.25\n",
       "1982    16.86\n",
       "1983    30.93\n",
       "1984    24.42\n",
       "1985    20.16\n",
       "1986    10.99\n",
       "1987    30.74\n",
       "1988    20.48\n",
       "1989    37.02\n",
       "1990    24.84\n",
       "1991    26.72\n",
       "1992    23.39\n",
       "1993    40.01\n",
       "1994    22.94\n",
       "1995    36.07\n",
       "1996    50.43\n",
       "1997    41.77\n",
       "1998    29.25\n",
       "1999    19.30\n",
       "2000    35.53\n",
       "2001    27.79\n",
       "2002    19.56\n",
       "2003    21.95\n",
       "2004    25.92\n",
       "2005    44.00\n",
       "2006    34.20\n",
       "2007    22.68\n",
       "2008    35.32\n",
       "2009    23.65\n",
       "2010    38.14\n",
       "2011    16.32\n",
       "2012    27.02\n",
       "2013    31.27\n",
       "2014    15.46\n",
       "2015    16.10\n",
       "2016    38.04\n",
       "2017    37.68\n",
       "2018    16.36\n",
       "2019    30.71\n",
       "2020    46.19\n",
       "2021    38.41\n",
       "2022    28.98\n",
       "2023     9.99\n",
       "Name: prcp, dtype: float64"
      ]
     },
     "execution_count": 36,
     "metadata": {},
     "output_type": "execute_result"
    }
   ],
   "source": [
    "core_weather.groupby(core_weather.index.year).sum()[\"prcp\"]"
   ]
  },
  {
   "cell_type": "code",
   "execution_count": 37,
   "id": "3377ea1d-a9c7-41c4-8b60-0a55fbbbe2aa",
   "metadata": {},
   "outputs": [],
   "source": [
    "core_weather[\"target\"]=core_weather.shift(-1)[\"tmax\"]"
   ]
  },
  {
   "cell_type": "code",
   "execution_count": 38,
   "id": "d1213286-525c-46d1-9625-7f6b8e7227dc",
   "metadata": {},
   "outputs": [
    {
     "data": {
      "text/html": [
       "<div>\n",
       "<style scoped>\n",
       "    .dataframe tbody tr th:only-of-type {\n",
       "        vertical-align: middle;\n",
       "    }\n",
       "\n",
       "    .dataframe tbody tr th {\n",
       "        vertical-align: top;\n",
       "    }\n",
       "\n",
       "    .dataframe thead th {\n",
       "        text-align: right;\n",
       "    }\n",
       "</style>\n",
       "<table border=\"1\" class=\"dataframe\">\n",
       "  <thead>\n",
       "    <tr style=\"text-align: right;\">\n",
       "      <th></th>\n",
       "      <th>prcp</th>\n",
       "      <th>tavg</th>\n",
       "      <th>tmax</th>\n",
       "      <th>tmin</th>\n",
       "      <th>target</th>\n",
       "    </tr>\n",
       "    <tr>\n",
       "      <th>DATE</th>\n",
       "      <th></th>\n",
       "      <th></th>\n",
       "      <th></th>\n",
       "      <th></th>\n",
       "      <th></th>\n",
       "    </tr>\n",
       "  </thead>\n",
       "  <tbody>\n",
       "    <tr>\n",
       "      <th>1970-01-01</th>\n",
       "      <td>0.0</td>\n",
       "      <td>73.0</td>\n",
       "      <td>88.0</td>\n",
       "      <td>61.0</td>\n",
       "      <td>88.0</td>\n",
       "    </tr>\n",
       "    <tr>\n",
       "      <th>1970-01-02</th>\n",
       "      <td>0.0</td>\n",
       "      <td>73.0</td>\n",
       "      <td>88.0</td>\n",
       "      <td>61.0</td>\n",
       "      <td>88.0</td>\n",
       "    </tr>\n",
       "    <tr>\n",
       "      <th>1970-01-03</th>\n",
       "      <td>0.0</td>\n",
       "      <td>73.0</td>\n",
       "      <td>88.0</td>\n",
       "      <td>61.0</td>\n",
       "      <td>88.0</td>\n",
       "    </tr>\n",
       "    <tr>\n",
       "      <th>1970-01-04</th>\n",
       "      <td>0.0</td>\n",
       "      <td>73.0</td>\n",
       "      <td>88.0</td>\n",
       "      <td>61.0</td>\n",
       "      <td>88.0</td>\n",
       "    </tr>\n",
       "    <tr>\n",
       "      <th>1970-01-05</th>\n",
       "      <td>0.0</td>\n",
       "      <td>73.0</td>\n",
       "      <td>88.0</td>\n",
       "      <td>61.0</td>\n",
       "      <td>88.0</td>\n",
       "    </tr>\n",
       "    <tr>\n",
       "      <th>...</th>\n",
       "      <td>...</td>\n",
       "      <td>...</td>\n",
       "      <td>...</td>\n",
       "      <td>...</td>\n",
       "      <td>...</td>\n",
       "    </tr>\n",
       "    <tr>\n",
       "      <th>2023-06-15</th>\n",
       "      <td>0.0</td>\n",
       "      <td>92.0</td>\n",
       "      <td>102.0</td>\n",
       "      <td>80.0</td>\n",
       "      <td>102.0</td>\n",
       "    </tr>\n",
       "    <tr>\n",
       "      <th>2023-06-16</th>\n",
       "      <td>0.0</td>\n",
       "      <td>92.0</td>\n",
       "      <td>102.0</td>\n",
       "      <td>81.0</td>\n",
       "      <td>103.0</td>\n",
       "    </tr>\n",
       "    <tr>\n",
       "      <th>2023-06-17</th>\n",
       "      <td>0.0</td>\n",
       "      <td>91.0</td>\n",
       "      <td>103.0</td>\n",
       "      <td>81.0</td>\n",
       "      <td>102.0</td>\n",
       "    </tr>\n",
       "    <tr>\n",
       "      <th>2023-06-18</th>\n",
       "      <td>0.0</td>\n",
       "      <td>92.0</td>\n",
       "      <td>102.0</td>\n",
       "      <td>82.0</td>\n",
       "      <td>103.0</td>\n",
       "    </tr>\n",
       "    <tr>\n",
       "      <th>2023-06-19</th>\n",
       "      <td>0.0</td>\n",
       "      <td>90.0</td>\n",
       "      <td>103.0</td>\n",
       "      <td>83.0</td>\n",
       "      <td>NaN</td>\n",
       "    </tr>\n",
       "  </tbody>\n",
       "</table>\n",
       "<p>18475 rows × 5 columns</p>\n",
       "</div>"
      ],
      "text/plain": [
       "            prcp  tavg   tmax  tmin  target\n",
       "DATE                                       \n",
       "1970-01-01   0.0  73.0   88.0  61.0    88.0\n",
       "1970-01-02   0.0  73.0   88.0  61.0    88.0\n",
       "1970-01-03   0.0  73.0   88.0  61.0    88.0\n",
       "1970-01-04   0.0  73.0   88.0  61.0    88.0\n",
       "1970-01-05   0.0  73.0   88.0  61.0    88.0\n",
       "...          ...   ...    ...   ...     ...\n",
       "2023-06-15   0.0  92.0  102.0  80.0   102.0\n",
       "2023-06-16   0.0  92.0  102.0  81.0   103.0\n",
       "2023-06-17   0.0  91.0  103.0  81.0   102.0\n",
       "2023-06-18   0.0  92.0  102.0  82.0   103.0\n",
       "2023-06-19   0.0  90.0  103.0  83.0     NaN\n",
       "\n",
       "[18475 rows x 5 columns]"
      ]
     },
     "execution_count": 38,
     "metadata": {},
     "output_type": "execute_result"
    }
   ],
   "source": [
    "core_weather"
   ]
  },
  {
   "cell_type": "code",
   "execution_count": 39,
   "id": "77e46929-6fbe-4329-b53a-defa05080938",
   "metadata": {},
   "outputs": [],
   "source": [
    "core_weather=core_weather.iloc[:-1,:].copy()"
   ]
  },
  {
   "cell_type": "code",
   "execution_count": 40,
   "id": "e1709ee5-8644-4672-9d20-83929f1dfbe9",
   "metadata": {},
   "outputs": [
    {
     "data": {
      "text/html": [
       "<div>\n",
       "<style scoped>\n",
       "    .dataframe tbody tr th:only-of-type {\n",
       "        vertical-align: middle;\n",
       "    }\n",
       "\n",
       "    .dataframe tbody tr th {\n",
       "        vertical-align: top;\n",
       "    }\n",
       "\n",
       "    .dataframe thead th {\n",
       "        text-align: right;\n",
       "    }\n",
       "</style>\n",
       "<table border=\"1\" class=\"dataframe\">\n",
       "  <thead>\n",
       "    <tr style=\"text-align: right;\">\n",
       "      <th></th>\n",
       "      <th>prcp</th>\n",
       "      <th>tavg</th>\n",
       "      <th>tmax</th>\n",
       "      <th>tmin</th>\n",
       "      <th>target</th>\n",
       "    </tr>\n",
       "    <tr>\n",
       "      <th>DATE</th>\n",
       "      <th></th>\n",
       "      <th></th>\n",
       "      <th></th>\n",
       "      <th></th>\n",
       "      <th></th>\n",
       "    </tr>\n",
       "  </thead>\n",
       "  <tbody>\n",
       "    <tr>\n",
       "      <th>1970-01-01</th>\n",
       "      <td>0.0</td>\n",
       "      <td>73.0</td>\n",
       "      <td>88.0</td>\n",
       "      <td>61.0</td>\n",
       "      <td>88.0</td>\n",
       "    </tr>\n",
       "    <tr>\n",
       "      <th>1970-01-02</th>\n",
       "      <td>0.0</td>\n",
       "      <td>73.0</td>\n",
       "      <td>88.0</td>\n",
       "      <td>61.0</td>\n",
       "      <td>88.0</td>\n",
       "    </tr>\n",
       "    <tr>\n",
       "      <th>1970-01-03</th>\n",
       "      <td>0.0</td>\n",
       "      <td>73.0</td>\n",
       "      <td>88.0</td>\n",
       "      <td>61.0</td>\n",
       "      <td>88.0</td>\n",
       "    </tr>\n",
       "    <tr>\n",
       "      <th>1970-01-04</th>\n",
       "      <td>0.0</td>\n",
       "      <td>73.0</td>\n",
       "      <td>88.0</td>\n",
       "      <td>61.0</td>\n",
       "      <td>88.0</td>\n",
       "    </tr>\n",
       "    <tr>\n",
       "      <th>1970-01-05</th>\n",
       "      <td>0.0</td>\n",
       "      <td>73.0</td>\n",
       "      <td>88.0</td>\n",
       "      <td>61.0</td>\n",
       "      <td>88.0</td>\n",
       "    </tr>\n",
       "    <tr>\n",
       "      <th>...</th>\n",
       "      <td>...</td>\n",
       "      <td>...</td>\n",
       "      <td>...</td>\n",
       "      <td>...</td>\n",
       "      <td>...</td>\n",
       "    </tr>\n",
       "    <tr>\n",
       "      <th>2023-06-14</th>\n",
       "      <td>0.0</td>\n",
       "      <td>92.0</td>\n",
       "      <td>103.0</td>\n",
       "      <td>81.0</td>\n",
       "      <td>102.0</td>\n",
       "    </tr>\n",
       "    <tr>\n",
       "      <th>2023-06-15</th>\n",
       "      <td>0.0</td>\n",
       "      <td>92.0</td>\n",
       "      <td>102.0</td>\n",
       "      <td>80.0</td>\n",
       "      <td>102.0</td>\n",
       "    </tr>\n",
       "    <tr>\n",
       "      <th>2023-06-16</th>\n",
       "      <td>0.0</td>\n",
       "      <td>92.0</td>\n",
       "      <td>102.0</td>\n",
       "      <td>81.0</td>\n",
       "      <td>103.0</td>\n",
       "    </tr>\n",
       "    <tr>\n",
       "      <th>2023-06-17</th>\n",
       "      <td>0.0</td>\n",
       "      <td>91.0</td>\n",
       "      <td>103.0</td>\n",
       "      <td>81.0</td>\n",
       "      <td>102.0</td>\n",
       "    </tr>\n",
       "    <tr>\n",
       "      <th>2023-06-18</th>\n",
       "      <td>0.0</td>\n",
       "      <td>92.0</td>\n",
       "      <td>102.0</td>\n",
       "      <td>82.0</td>\n",
       "      <td>103.0</td>\n",
       "    </tr>\n",
       "  </tbody>\n",
       "</table>\n",
       "<p>18474 rows × 5 columns</p>\n",
       "</div>"
      ],
      "text/plain": [
       "            prcp  tavg   tmax  tmin  target\n",
       "DATE                                       \n",
       "1970-01-01   0.0  73.0   88.0  61.0    88.0\n",
       "1970-01-02   0.0  73.0   88.0  61.0    88.0\n",
       "1970-01-03   0.0  73.0   88.0  61.0    88.0\n",
       "1970-01-04   0.0  73.0   88.0  61.0    88.0\n",
       "1970-01-05   0.0  73.0   88.0  61.0    88.0\n",
       "...          ...   ...    ...   ...     ...\n",
       "2023-06-14   0.0  92.0  103.0  81.0   102.0\n",
       "2023-06-15   0.0  92.0  102.0  80.0   102.0\n",
       "2023-06-16   0.0  92.0  102.0  81.0   103.0\n",
       "2023-06-17   0.0  91.0  103.0  81.0   102.0\n",
       "2023-06-18   0.0  92.0  102.0  82.0   103.0\n",
       "\n",
       "[18474 rows x 5 columns]"
      ]
     },
     "execution_count": 40,
     "metadata": {},
     "output_type": "execute_result"
    }
   ],
   "source": [
    "core_weather"
   ]
  },
  {
   "cell_type": "code",
   "execution_count": 41,
   "id": "782b8ed9-cf49-479d-b8c2-8632434e4f25",
   "metadata": {},
   "outputs": [],
   "source": [
    "import sys\n",
    "sys.path.append(r\"C:\\Users\\DELL\\AppData\\Local\\Programs\\Python\\Python311\\Lib\\site-packages\")"
   ]
  },
  {
   "cell_type": "code",
   "execution_count": 42,
   "id": "713324e2-af7c-49f7-ae84-9caf7e49ecbf",
   "metadata": {},
   "outputs": [],
   "source": [
    "import sklearn"
   ]
  },
  {
   "cell_type": "code",
   "execution_count": 43,
   "id": "3bee2f6e-890b-41d5-920b-c5dec9db404a",
   "metadata": {},
   "outputs": [],
   "source": [
    "from sklearn.linear_model import Ridge\n",
    "reg=Ridge(alpha=.1)"
   ]
  },
  {
   "cell_type": "code",
   "execution_count": 44,
   "id": "b44ef799-6b9a-4b18-b17f-59b2b71cbc85",
   "metadata": {},
   "outputs": [],
   "source": [
    "predictors=[\"prcp\",\"tmin\",\"tmax\"]"
   ]
  },
  {
   "cell_type": "code",
   "execution_count": 45,
   "id": "5165c097-a75e-4306-a508-b7d93c74e8a3",
   "metadata": {},
   "outputs": [],
   "source": [
    "train=core_weather.loc[:\"2020-12-31\"]"
   ]
  },
  {
   "cell_type": "code",
   "execution_count": 46,
   "id": "8b36fead-4a03-495b-8ad8-80848fdbdc32",
   "metadata": {},
   "outputs": [],
   "source": [
    "test=core_weather.loc[\"2021-01-01\":]"
   ]
  },
  {
   "cell_type": "code",
   "execution_count": 47,
   "id": "9a86f9ef-5d0c-403c-bec6-8277f6c0c507",
   "metadata": {},
   "outputs": [
    {
     "data": {
      "text/html": [
       "<style>#sk-container-id-1 {color: black;background-color: white;}#sk-container-id-1 pre{padding: 0;}#sk-container-id-1 div.sk-toggleable {background-color: white;}#sk-container-id-1 label.sk-toggleable__label {cursor: pointer;display: block;width: 100%;margin-bottom: 0;padding: 0.3em;box-sizing: border-box;text-align: center;}#sk-container-id-1 label.sk-toggleable__label-arrow:before {content: \"▸\";float: left;margin-right: 0.25em;color: #696969;}#sk-container-id-1 label.sk-toggleable__label-arrow:hover:before {color: black;}#sk-container-id-1 div.sk-estimator:hover label.sk-toggleable__label-arrow:before {color: black;}#sk-container-id-1 div.sk-toggleable__content {max-height: 0;max-width: 0;overflow: hidden;text-align: left;background-color: #f0f8ff;}#sk-container-id-1 div.sk-toggleable__content pre {margin: 0.2em;color: black;border-radius: 0.25em;background-color: #f0f8ff;}#sk-container-id-1 input.sk-toggleable__control:checked~div.sk-toggleable__content {max-height: 200px;max-width: 100%;overflow: auto;}#sk-container-id-1 input.sk-toggleable__control:checked~label.sk-toggleable__label-arrow:before {content: \"▾\";}#sk-container-id-1 div.sk-estimator input.sk-toggleable__control:checked~label.sk-toggleable__label {background-color: #d4ebff;}#sk-container-id-1 div.sk-label input.sk-toggleable__control:checked~label.sk-toggleable__label {background-color: #d4ebff;}#sk-container-id-1 input.sk-hidden--visually {border: 0;clip: rect(1px 1px 1px 1px);clip: rect(1px, 1px, 1px, 1px);height: 1px;margin: -1px;overflow: hidden;padding: 0;position: absolute;width: 1px;}#sk-container-id-1 div.sk-estimator {font-family: monospace;background-color: #f0f8ff;border: 1px dotted black;border-radius: 0.25em;box-sizing: border-box;margin-bottom: 0.5em;}#sk-container-id-1 div.sk-estimator:hover {background-color: #d4ebff;}#sk-container-id-1 div.sk-parallel-item::after {content: \"\";width: 100%;border-bottom: 1px solid gray;flex-grow: 1;}#sk-container-id-1 div.sk-label:hover label.sk-toggleable__label {background-color: #d4ebff;}#sk-container-id-1 div.sk-serial::before {content: \"\";position: absolute;border-left: 1px solid gray;box-sizing: border-box;top: 0;bottom: 0;left: 50%;z-index: 0;}#sk-container-id-1 div.sk-serial {display: flex;flex-direction: column;align-items: center;background-color: white;padding-right: 0.2em;padding-left: 0.2em;position: relative;}#sk-container-id-1 div.sk-item {position: relative;z-index: 1;}#sk-container-id-1 div.sk-parallel {display: flex;align-items: stretch;justify-content: center;background-color: white;position: relative;}#sk-container-id-1 div.sk-item::before, #sk-container-id-1 div.sk-parallel-item::before {content: \"\";position: absolute;border-left: 1px solid gray;box-sizing: border-box;top: 0;bottom: 0;left: 50%;z-index: -1;}#sk-container-id-1 div.sk-parallel-item {display: flex;flex-direction: column;z-index: 1;position: relative;background-color: white;}#sk-container-id-1 div.sk-parallel-item:first-child::after {align-self: flex-end;width: 50%;}#sk-container-id-1 div.sk-parallel-item:last-child::after {align-self: flex-start;width: 50%;}#sk-container-id-1 div.sk-parallel-item:only-child::after {width: 0;}#sk-container-id-1 div.sk-dashed-wrapped {border: 1px dashed gray;margin: 0 0.4em 0.5em 0.4em;box-sizing: border-box;padding-bottom: 0.4em;background-color: white;}#sk-container-id-1 div.sk-label label {font-family: monospace;font-weight: bold;display: inline-block;line-height: 1.2em;}#sk-container-id-1 div.sk-label-container {text-align: center;}#sk-container-id-1 div.sk-container {/* jupyter's `normalize.less` sets `[hidden] { display: none; }` but bootstrap.min.css set `[hidden] { display: none !important; }` so we also need the `!important` here to be able to override the default hidden behavior on the sphinx rendered scikit-learn.org. See: https://github.com/scikit-learn/scikit-learn/issues/21755 */display: inline-block !important;position: relative;}#sk-container-id-1 div.sk-text-repr-fallback {display: none;}</style><div id=\"sk-container-id-1\" class=\"sk-top-container\"><div class=\"sk-text-repr-fallback\"><pre>Ridge(alpha=0.1)</pre><b>In a Jupyter environment, please rerun this cell to show the HTML representation or trust the notebook. <br />On GitHub, the HTML representation is unable to render, please try loading this page with nbviewer.org.</b></div><div class=\"sk-container\" hidden><div class=\"sk-item\"><div class=\"sk-estimator sk-toggleable\"><input class=\"sk-toggleable__control sk-hidden--visually\" id=\"sk-estimator-id-1\" type=\"checkbox\" checked><label for=\"sk-estimator-id-1\" class=\"sk-toggleable__label sk-toggleable__label-arrow\">Ridge</label><div class=\"sk-toggleable__content\"><pre>Ridge(alpha=0.1)</pre></div></div></div></div></div>"
      ],
      "text/plain": [
       "Ridge(alpha=0.1)"
      ]
     },
     "execution_count": 47,
     "metadata": {},
     "output_type": "execute_result"
    }
   ],
   "source": [
    "reg.fit(train[predictors],train[\"target\"])"
   ]
  },
  {
   "cell_type": "code",
   "execution_count": 48,
   "id": "2f2ba1d8-f1ef-4203-a548-55636ec09bf6",
   "metadata": {},
   "outputs": [],
   "source": [
    "predictors=reg.predict(test[predictors])"
   ]
  },
  {
   "cell_type": "code",
   "execution_count": 49,
   "id": "8b6bc489-d951-467c-bb79-6957899091c4",
   "metadata": {},
   "outputs": [],
   "source": [
    "from sklearn.metrics import mean_absolute_error"
   ]
  },
  {
   "cell_type": "code",
   "execution_count": 50,
   "id": "7f80c6b6-9fe0-4751-8115-c9abc6c8bf88",
   "metadata": {},
   "outputs": [
    {
     "data": {
      "text/plain": [
       "1.489054738379602"
      ]
     },
     "execution_count": 50,
     "metadata": {},
     "output_type": "execute_result"
    }
   ],
   "source": [
    "mean_absolute_error(test[\"target\"],predictors)"
   ]
  },
  {
   "cell_type": "code",
   "execution_count": 59,
   "id": "5ae35224-7736-49ce-a367-b37aea6a70d5",
   "metadata": {},
   "outputs": [],
   "source": [
    "combination=pd.concat([test[\"target\"],pd.Series(predictors, index=test.index)],axis=1)\n",
    "combination.columns=[\"actual\",\"prediction\"]"
   ]
  },
  {
   "cell_type": "code",
   "execution_count": 52,
   "id": "6327fe37-e962-4bfa-905d-d635a1f5d378",
   "metadata": {},
   "outputs": [
    {
     "data": {
      "text/html": [
       "<div>\n",
       "<style scoped>\n",
       "    .dataframe tbody tr th:only-of-type {\n",
       "        vertical-align: middle;\n",
       "    }\n",
       "\n",
       "    .dataframe tbody tr th {\n",
       "        vertical-align: top;\n",
       "    }\n",
       "\n",
       "    .dataframe thead th {\n",
       "        text-align: right;\n",
       "    }\n",
       "</style>\n",
       "<table border=\"1\" class=\"dataframe\">\n",
       "  <thead>\n",
       "    <tr style=\"text-align: right;\">\n",
       "      <th></th>\n",
       "      <th>actual</th>\n",
       "      <th>prediction</th>\n",
       "    </tr>\n",
       "    <tr>\n",
       "      <th>DATE</th>\n",
       "      <th></th>\n",
       "      <th></th>\n",
       "    </tr>\n",
       "  </thead>\n",
       "  <tbody>\n",
       "    <tr>\n",
       "      <th>2021-01-01</th>\n",
       "      <td>80.0</td>\n",
       "      <td>80.549848</td>\n",
       "    </tr>\n",
       "    <tr>\n",
       "      <th>2021-01-02</th>\n",
       "      <td>82.0</td>\n",
       "      <td>80.746980</td>\n",
       "    </tr>\n",
       "    <tr>\n",
       "      <th>2021-01-03</th>\n",
       "      <td>82.0</td>\n",
       "      <td>82.542318</td>\n",
       "    </tr>\n",
       "    <tr>\n",
       "      <th>2021-01-04</th>\n",
       "      <td>82.0</td>\n",
       "      <td>82.640884</td>\n",
       "    </tr>\n",
       "    <tr>\n",
       "      <th>2021-01-05</th>\n",
       "      <td>86.0</td>\n",
       "      <td>82.739450</td>\n",
       "    </tr>\n",
       "    <tr>\n",
       "      <th>...</th>\n",
       "      <td>...</td>\n",
       "      <td>...</td>\n",
       "    </tr>\n",
       "    <tr>\n",
       "      <th>2023-06-14</th>\n",
       "      <td>102.0</td>\n",
       "      <td>102.329740</td>\n",
       "    </tr>\n",
       "    <tr>\n",
       "      <th>2023-06-15</th>\n",
       "      <td>102.0</td>\n",
       "      <td>101.382788</td>\n",
       "    </tr>\n",
       "    <tr>\n",
       "      <th>2023-06-16</th>\n",
       "      <td>103.0</td>\n",
       "      <td>101.432072</td>\n",
       "    </tr>\n",
       "    <tr>\n",
       "      <th>2023-06-17</th>\n",
       "      <td>102.0</td>\n",
       "      <td>102.329740</td>\n",
       "    </tr>\n",
       "    <tr>\n",
       "      <th>2023-06-18</th>\n",
       "      <td>103.0</td>\n",
       "      <td>101.481355</td>\n",
       "    </tr>\n",
       "  </tbody>\n",
       "</table>\n",
       "<p>896 rows × 2 columns</p>\n",
       "</div>"
      ],
      "text/plain": [
       "            actual  prediction\n",
       "DATE                          \n",
       "2021-01-01    80.0   80.549848\n",
       "2021-01-02    82.0   80.746980\n",
       "2021-01-03    82.0   82.542318\n",
       "2021-01-04    82.0   82.640884\n",
       "2021-01-05    86.0   82.739450\n",
       "...            ...         ...\n",
       "2023-06-14   102.0  102.329740\n",
       "2023-06-15   102.0  101.382788\n",
       "2023-06-16   103.0  101.432072\n",
       "2023-06-17   102.0  102.329740\n",
       "2023-06-18   103.0  101.481355\n",
       "\n",
       "[896 rows x 2 columns]"
      ]
     },
     "execution_count": 52,
     "metadata": {},
     "output_type": "execute_result"
    }
   ],
   "source": [
    "combination"
   ]
  },
  {
   "cell_type": "code",
   "execution_count": 53,
   "id": "4e9d3f06-4bce-412e-993e-b49326edaec0",
   "metadata": {},
   "outputs": [
    {
     "data": {
      "text/plain": [
       "<Axes: xlabel='DATE'>"
      ]
     },
     "execution_count": 53,
     "metadata": {},
     "output_type": "execute_result"
    },
    {
     "data": {
      "image/png": "[encoded data removed]",
      "text/plain": [
       "<Figure size 640x480 with 1 Axes>"
      ]
     },
     "metadata": {},
     "output_type": "display_data"
    }
   ],
   "source": [
    "combination.plot()"
   ]
  },
  {
   "cell_type": "code",
   "execution_count": 54,
   "id": "eb1fb327-fbe4-4ed9-bf9c-3ad19131e6df",
   "metadata": {},
   "outputs": [
    {
     "data": {
      "text/plain": [
       "array([-0.06595333,  0.04928317,  0.89766869])"
      ]
     },
     "execution_count": 54,
     "metadata": {},
     "output_type": "execute_result"
    }
   ],
   "source": [
    "reg.coef_"
   ]
  },
  {
   "cell_type": "code",
   "execution_count": 111,
   "id": "7ddf807a-a966-425b-98ba-0c1984bfeb39",
   "metadata": {},
   "outputs": [
    {
     "data": {
      "text/plain": [
       "<Axes: xlabel='DATE'>"
      ]
     },
     "execution_count": 111,
     "metadata": {},
     "output_type": "execute_result"
    },
    {
     "data": {
      "image/png": "[encoded data removed]",
      "text/plain": [
       "<Figure size 640x480 with 1 Axes>"
      ]
     },
     "metadata": {},
     "output_type": "display_data"
    }
   ],
   "source": [
    "combination.plot()"
   ]
  },
  {
   "cell_type": "code",
   "execution_count": 117,
   "id": "52a30e1e-aedc-48db-ac63-8afd56b2c54e",
   "metadata": {},
   "outputs": [
    {
     "ename": "NameError",
     "evalue": "name 'ref' is not defined",
     "output_type": "error",
     "traceback": [
      "\u001b[1;31m---------------------------------------------------------------------------\u001b[0m",
      "\u001b[1;31mNameError\u001b[0m                                 Traceback (most recent call last)",
      "Cell \u001b[1;32mIn[117], line 1\u001b[0m\n\u001b[1;32m----> 1\u001b[0m \u001b[43mref\u001b[49m\u001b[38;5;241m.\u001b[39mcoef_\n",
      "\u001b[1;31mNameError\u001b[0m: name 'ref' is not defined"
     ]
    }
   ],
   "source": [
    " ref.coef_"
   ]
  },
  {
   "cell_type": "code",
   "execution_count": 55,
   "id": "295941cc-088c-48d8-8306-54f9077961ae",
   "metadata": {},
   "outputs": [
    {
     "data": {
      "text/plain": [
       "array([-0.06595333,  0.04928317,  0.89766869])"
      ]
     },
     "execution_count": 55,
     "metadata": {},
     "output_type": "execute_result"
    }
   ],
   "source": [
    "reg.coef_"
   ]
  },
  {
   "cell_type": "code",
   "execution_count": 56,
   "id": "b603ffd4-bf28-424c-bf9c-1d319be7bd52",
   "metadata": {},
   "outputs": [
    {
     "data": {
      "text/plain": [
       "array([ 80.54984765,  80.74698031,  82.54231768,  82.64088401,\n",
       "        82.73945035,  86.33012509,  86.37413199,  86.37874872,\n",
       "        86.37940825,  86.37940825,  86.37940825,  87.07994428,\n",
       "        88.92456481,  87.97761296,  87.97761296,  85.33389007,\n",
       "        86.23155876,  85.33389007,  85.2846069 ,  85.2846069 ,\n",
       "        90.67061902,  90.67061902,  89.77295033,  88.87528165,\n",
       "        90.67061902,  91.5682877 ,  91.5682877 ,  88.87528165,\n",
       "        88.87528165,  88.87528165,  88.87528165,  85.2846069 ,\n",
       "        85.2846069 ,  85.2846069 ,  85.88657659,  85.88657659,\n",
       "        87.68191396,  87.68191396,  85.88657659,  85.93585976,\n",
       "        88.62886581,  88.62886581,  88.62886581,  89.07241431,\n",
       "        91.76542037,  91.76542037,  89.970083  ,  85.3805351 ,\n",
       "        82.73945035,  82.73945035,  82.73945035,  82.73945035,\n",
       "        92.61380589,  92.61380589,  96.20448063,  95.30681194,\n",
       "        97.10214931,  97.10214931,  96.30304696,  96.30304696,\n",
       "        96.05663113,  96.05663113,  97.8519685 ,  96.95429981,\n",
       "        95.15896244,  95.15896244,  95.15896244,  96.95429981,\n",
       "        95.15896244,  95.15896244,  95.15896244,  95.15896244,\n",
       "        96.95429981,  96.95429981,  96.05663113,  93.70860724,\n",
       "        93.70860724,  93.70860724,  95.50394461,  95.75036044,\n",
       "        95.75036044,  99.34103518,  99.34103518, 101.13637255,\n",
       "       101.03780622, 101.9354749 , 102.83314359, 102.78386042,\n",
       "       101.08708939, 101.98475807, 102.88242676, 100.1894207 ,\n",
       "       100.1894207 , 100.1894207 , 100.1894207 ,  98.39408333,\n",
       "        97.64426414,  96.74659546,  94.95125809,  95.84892677,\n",
       "        94.93542929,  94.95125809,  94.95125809,  97.64426414,\n",
       "        98.54193283,  98.4433665 ,  98.4433665 , 100.23870387,\n",
       "        99.34103518,  97.54569781,  98.43281396,  98.54193283,\n",
       "        99.58745101, 101.23493888, 100.38655336, 100.38655336,\n",
       "       102.13260757, 101.33350522,  95.89820994,  96.79587862,\n",
       "        97.49641464,  97.49641464,  99.34103518,  99.43960151,\n",
       "        98.68978233,  98.68978233, 100.53440286, 100.53440286,\n",
       "       101.43207155, 101.96629114, 101.08708939,  97.64162601,\n",
       "        94.0535894 ,  94.0535894 ,  97.43394081,  97.39784831,\n",
       "        98.36044713,  98.68978233,  98.68978233,  98.68978233,\n",
       "       102.1812312 , 102.32974023, 102.32974023, 103.12884259,\n",
       "        99.43960151,  99.43960151, 102.13260757, 102.32974023,\n",
       "       100.38655336,  98.22296833,  93.90310177,  93.9057399 ,\n",
       "        93.05207812,  93.8721037 ,  94.10287257,  95.84892677,\n",
       "        95.84892677,  95.84892677,  91.06470251,  90.30978889,\n",
       "        90.31506516,  90.17494823,  90.21517976,  91.05678811,\n",
       "        90.36434833,  91.26201701,  87.67134227,  87.61942097,\n",
       "        93.05735438,  94.10287257,  93.25448705,  87.6220591 ,\n",
       "        87.6220591 ,  93.05735438,  93.04943998,  92.84487062,\n",
       "        92.90950488,  93.9423101 ,  94.00430623,  89.27200327,\n",
       "        89.51530327,  89.51596281,  94.10287257,  94.00430623,\n",
       "        94.00430623,  97.15154651,  97.49641464,  89.41607741,\n",
       "        86.72439042,  86.70592348,  85.59049477,  85.6010473 ,\n",
       "        85.49947917,  85.6782127 ,  85.82144547,  91.17118324,\n",
       "        88.27294829,  85.72683633,  84.81465791,  77.59175783,\n",
       "        77.56621786,  77.58402526,  77.74770356,  89.41475834,\n",
       "        88.46516836,  89.36811331,  89.41739647,  89.41739647,\n",
       "        88.51181339,  86.67510725,  86.67510725,  89.36811331,\n",
       "        89.41739647,  89.36811331,  89.36745377,  89.46404151,\n",
       "        92.99488055,  93.10663755,  93.10663755,  93.10663755,\n",
       "        93.10663755,  93.05735438,  89.46667964,  90.36368879,\n",
       "        91.25410261,  81.37974707,  81.37183267,  83.03251121,\n",
       "        83.93281803,  83.93281803,  83.95110313,  91.16345068,\n",
       "        91.92063876,  92.04265243,  90.13357946,  89.26888744,\n",
       "        86.57456232,  86.60010229,  89.27727954,  89.31091574,\n",
       "        89.30563948,  89.31883014,  91.01523751,  85.71760287,\n",
       "        87.4583808 ,  82.95486811,  78.46916282,  78.49620368,\n",
       "        85.67887223,  87.52349277,  87.52349277,  86.62582409,\n",
       "        87.52349277,  87.52349277,  91.11416751,  89.36811331,\n",
       "        89.41739647,  89.41739647,  89.41739647,  92.11040253,\n",
       "        92.0118362 ,  88.38752526,  88.40797079,  88.41918286,\n",
       "        88.42116146,  90.05047826,  84.77328915,  84.67238055,\n",
       "        84.78054402,  84.83048671,  84.97833621,  91.26201701,\n",
       "        90.41363149,  91.21273385,  91.21273385,  90.29461963,\n",
       "        89.40420581,  89.41739647,  91.16590698,  89.88181956,\n",
       "        89.22026381,  90.01936616,  90.16721566,  90.1179325 ,\n",
       "        90.91703485,  90.01936616,  90.01936616,  88.42116146,\n",
       "        89.36811331,  89.22026381,  89.970083  ,  89.970083  ,\n",
       "        89.92079983,  91.7161372 ,  89.87151666,  88.02689613,\n",
       "        87.97761296,  87.22779377,  87.37564327,  86.62582409,\n",
       "        87.52349277,  88.12546246,  88.32259512,  85.67887223,\n",
       "        85.67887223,  86.57654092,  87.4742096 ,  87.12922744,\n",
       "        86.93209478,  85.98514292,  86.13299242,  89.12169748,\n",
       "        87.42492644,  84.73192038,  87.42492644,  87.42426691,\n",
       "        87.42492644,  83.83293263,  84.73192038,  82.93526394,\n",
       "        82.93394488,  82.02572366,  82.03363806,  82.08819749,\n",
       "        90.16655613,  89.26954698,  90.16721566,  88.37187829,\n",
       "        85.38317324,  85.38317324,  85.38317324,  85.38317324,\n",
       "        86.28084192,  86.28084192,  86.28084192,  88.87528165,\n",
       "        90.67061902,  90.67061902,  88.02689613,  86.23155876,\n",
       "        87.12922744,  87.37564327,  85.5803059 ,  86.33012509,\n",
       "        83.63711903,  83.63711903,  83.63711903,  84.53478772,\n",
       "        83.63711903,  83.63711903,  82.73945035,  82.73945035,\n",
       "        82.73945035,  86.33012509,  86.33012509,  89.02313114,\n",
       "        89.02313114,  87.22779377,  85.4324564 ,  85.4324564 ,\n",
       "        84.53478772,  82.73945035,  82.73945035,  81.84178166,\n",
       "        82.73945035,  83.63711903,  84.53478772,  83.63711903,\n",
       "        82.73945035,  82.73945035,  84.53478772,  83.63711903,\n",
       "        85.4324564 ,  86.33012509,  87.22779377,  87.22779377,\n",
       "        86.33012509,  86.32484882,  86.28084192,  86.13299242,\n",
       "        86.13299242,  86.13299242,  89.674384  ,  89.674384  ,\n",
       "        91.46972137,  86.98137794,  84.28837189,  84.28837189,\n",
       "        85.18604057,  82.49303452,  84.28837189,  84.28837189,\n",
       "        84.04195606,  90.32563685,  91.22330554,  91.22330554,\n",
       "        90.32563685,  90.32563685,  86.73496211,  86.73496211,\n",
       "        88.53029948,  89.42796817,  86.33012509,  87.22779377,\n",
       "        87.22779377,  87.22779377,  87.22779377,  88.12546246,\n",
       "        89.02313114,  89.02313114,  89.92079983,  89.92079983,\n",
       "        89.92079983,  93.51147457,  93.51147457,  94.40914326,\n",
       "        94.40914326,  91.66685403,  92.56452272,  92.56452272,\n",
       "        92.56452272,  92.56452272,  93.46219141,  91.66685403,\n",
       "        92.56452272,  91.66685403,  92.56452272,  90.76918535,\n",
       "        90.76918535,  93.46219141,  95.25752878,  95.25752878,\n",
       "        94.35986009,  93.46219141,  93.46219141,  97.05286615,\n",
       "        97.05286615,  97.05286615, 101.54120957, 101.54120957,\n",
       "        97.05286615,  97.05286615,  99.7458722 ,  99.7458722 ,\n",
       "        98.84820352,  98.84820352,  98.84820352, 100.64354089,\n",
       "        99.7458722 , 100.64354089, 101.13637255, 103.82937861,\n",
       "       103.82937861, 101.13637255, 100.23870387, 100.23870387,\n",
       "       100.23870387,  99.34103518,  99.34103518, 101.13637255,\n",
       "       100.23870387,  98.4433665 , 100.23870387, 100.3372702 ,\n",
       "       101.23493888, 100.3372702 , 102.13260757, 101.23493888,\n",
       "       102.13260757, 102.13260757, 103.97722811, 105.77256548,\n",
       "       105.77256548, 103.07955942,  98.59121599, 102.18189074,\n",
       "       103.07955942, 103.07955942, 103.97722811, 103.97722811,\n",
       "       104.87489679, 105.77256548, 105.77256548, 105.77256548,\n",
       "       104.87489679, 101.42692847,  99.33312078, 103.12884259,\n",
       "       103.12884259, 102.2311739 , 103.17812575, 103.17812575,\n",
       "       100.4851197 ,  92.40544199,  99.58745101, 103.17812575,\n",
       "       103.17812575, 102.76539349,  97.39784831,  97.39784831,\n",
       "        95.60251094,  96.50017963,  96.64802912,  98.4433665 ,\n",
       "        99.34103518, 102.03404124, 102.03404124, 102.03404124,\n",
       "       102.0314031 , 102.03404124, 102.93170992, 103.27669209,\n",
       "       102.3790234 , 101.18499618, 102.98099309, 103.12884259,\n",
       "       102.92643366, 105.62471598, 105.62405645, 103.82937861,\n",
       "       103.82937861, 101.13637255, 101.13637255,  98.4433665 ,\n",
       "        98.4433665 ,  99.34103518,  99.32058965,  97.54569781,\n",
       "        95.74904137,  95.75036044,  96.64736959,  96.64671006,\n",
       "        93.94447053,  93.63587674,  91.9618935 ,  93.95502307,\n",
       "        93.95502307,  91.26201701,  91.16081255,  87.46101894,\n",
       "        87.46893334,  90.13621759,  91.06488435,  91.96255303,\n",
       "        91.9104499 ,  91.96123397,  91.03916255,  90.13885573,\n",
       "        90.13621759,  86.57588139,  86.57522185,  79.23708527,\n",
       "        77.44900276,  80.20202635,  80.20994075,  76.48706348,\n",
       "        81.03212677,  85.52970367,  85.53102274,  88.22402879,\n",
       "        85.49211027,  85.7281554 ,  91.11416751,  91.11416751,\n",
       "        88.42116146,  82.88729985,  83.78496853,  87.37036701,\n",
       "        87.34728334,  87.45574267,  90.16655613,  91.06224621,\n",
       "        91.01560118,  91.01560118,  92.1596857 ,  89.46667964,\n",
       "        89.36019891,  89.41673694,  89.40684394,  89.41212021,\n",
       "        86.61790969,  82.96278251,  82.07764496,  85.67359597,\n",
       "        87.52349277,  87.57145687,  87.57277594,  85.77743857,\n",
       "        81.28909514,  90.21649883,  91.11416751,  91.11416751,\n",
       "        91.04689511,  87.52085464,  89.41212021,  89.41739647,\n",
       "        90.21649883,  90.21649883,  91.11416751,  92.0118362 ,\n",
       "        92.0118362 ,  92.0118362 ,  90.21649883,  90.21122256,\n",
       "        92.0118362 ,  91.11416751,  91.11416751,  93.10663755,\n",
       "        93.10663755,  90.41363149,  93.10663755,  92.1700564 ,\n",
       "        90.30480849,  87.62960984,  87.70743477,  84.09895263,\n",
       "        85.01970498,  84.99925945,  85.67887223,  85.67887223,\n",
       "        86.57654092,  86.57654092,  89.26954698,  90.16721566,\n",
       "        87.4662952 ,  87.4742096 ,  86.57654092,  86.52725775,\n",
       "        87.42492644,  87.4742096 ,  91.06488435,  90.01936616,\n",
       "        89.26954698,  89.26954698,  87.52349277,  87.52349277,\n",
       "        88.32259512,  88.37187829,  88.51972779,  88.47044462,\n",
       "        87.41946834,  82.85893991,  82.88729985,  88.23157952,\n",
       "        87.47289054,  87.5182165 ,  87.52349277,  87.09768387,\n",
       "        85.62958907,  83.82897543,  82.90822308,  82.93658301,\n",
       "        82.88729985,  91.01560118,  88.27331196,  87.37564327,\n",
       "        87.37564327,  85.18604057,  85.08747424,  86.03442609,\n",
       "        86.88281161,  85.98514292,  87.03066111,  87.03066111,\n",
       "        86.03442609,  86.03442609,  85.38317324,  85.38317324,\n",
       "        85.33389007,  87.32636011,  86.42869142,  86.98137794,\n",
       "        87.03066111,  88.82599848,  87.82976346,  85.2846069 ,\n",
       "        86.33012509,  87.22779377,  87.17851061,  87.17851061,\n",
       "        87.03066111,  87.68191396,  86.73496211,  86.73496211,\n",
       "        85.83729343,  83.2428537 ,  83.58783587,  85.5803059 ,\n",
       "        86.57654092,  85.5803059 ,  85.38317324,  85.38317324,\n",
       "        88.07617929,  88.07617929,  87.7804803 ,  86.88281161,\n",
       "        85.18604057,  87.17851061,  85.67887223,  86.52725775,\n",
       "        87.03066111,  86.88281161,  87.92832979,  84.23908872,\n",
       "        84.14052239,  83.63711903,  80.98811988,  80.08253679,\n",
       "        80.24093882,  80.24093882,  80.04644429,  88.07617929,\n",
       "        87.17851061,  88.07617929,  86.83352844,  86.83352844,\n",
       "        86.83352844,  85.93585976,  85.93585976,  88.82599848,\n",
       "        87.03066111,  86.52725775,  86.52725775,  91.01560118,\n",
       "        91.91326987,  90.1179325 ,  89.22026381,  90.1179325 ,\n",
       "        89.22026381,  86.42869142,  85.53102274,  84.63335405,\n",
       "        81.94034799,  81.94034799,  84.63335405,  84.63335405,\n",
       "        85.53102274,  87.32636011,  87.32636011,  88.22402879,\n",
       "        88.22402879,  89.12169748,  88.22402879,  90.01936616,\n",
       "        89.12169748,  87.32636011,  87.32636011,  85.53102274,\n",
       "        85.53102274,  85.53102274,  85.38317324,  86.37940825,\n",
       "        86.37940825,  86.37940825,  86.37940825,  87.27707694,\n",
       "        86.37940825,  86.37940825,  87.32636011,  86.42869142,\n",
       "        86.42869142,  88.77671531,  89.674384  ,  90.57205268,\n",
       "        90.57205268,  90.57205268,  92.36739006,  93.26505874,\n",
       "        93.26505874,  95.20824561,  95.15896244,  90.67061902,\n",
       "        90.67061902,  93.36362507,  93.36362507,  91.5682877 ,\n",
       "        91.5682877 ,  91.5682877 ,  91.5682877 ,  95.15896244,\n",
       "        96.05663113,  95.30681194,  94.40914326,  95.30681194,\n",
       "        92.61380589,  92.61380589,  91.7161372 ,  90.81846852,\n",
       "        93.51147457,  93.51147457,  92.66308905,  93.56075774,\n",
       "        93.65932407,  93.65932407,  92.76165539,  90.96631801,\n",
       "        93.70860724,  93.70860724,  93.70860724,  93.70860724,\n",
       "        93.6100409 ,  91.81470353,  87.24325891,  87.32372197,\n",
       "        86.18209376,  86.47797459,  90.06864933,  90.06864933,\n",
       "        93.7578904 ,  93.85645674,  93.9057399 ,  93.9057399 ,\n",
       "        93.95502307,  96.64802912,  96.59874596,  98.49264966,\n",
       "        98.54193283,  96.59874596,  95.70107727,  95.89820994,\n",
       "        97.64426414,  99.43960151,  96.74659546,  95.70107727,\n",
       "        93.00807122,  92.95878805,  95.60251094,  95.60251094,\n",
       "        99.34103518, 100.4851197 , 100.79120855,  97.49113838,\n",
       "        97.59498098,  99.39031835,  99.19318568, 102.13260757,\n",
       "       102.32974023,  99.63673418,  99.33839705,  98.4433665 ,\n",
       "        98.39408333,  96.59874596,  96.26922893,  92.1596857 ,\n",
       "        92.1596857 ,  90.86786571,  89.22026381,  89.79596619,\n",
       "        87.56486154,  87.57277594,  90.26578199,  91.25410261,\n",
       "        92.1596857 ,  93.10663755,  93.25448705,  96.94372812,\n",
       "        97.89067997,  97.79211364,  97.59498098,  97.64426414,\n",
       "       102.28045707, 102.28045707, 103.17812575, 101.43207155,\n",
       "       101.38278838, 104.07579444, 104.12507761, 104.07579444,\n",
       "       103.59333348,  98.64049916,  98.64049916, 101.48135472,\n",
       "       101.48135472,  99.68601734, 101.38278838, 102.42830657,\n",
       "       102.42830657, 102.18189074, 102.18189074, 104.22364394,\n",
       "       104.37149344, 107.06383996, 100.2873275 , 100.53440286,\n",
       "       102.47758973, 103.22740892, 102.32974023, 102.32974023,\n",
       "       102.32974023,  99.58217475, 101.38278838, 102.32974023,\n",
       "       101.38278838, 101.43207155, 102.32974023, 101.48135472])"
      ]
     },
     "execution_count": 56,
     "metadata": {},
     "output_type": "execute_result"
    }
   ],
   "source": [
    "predictors"
   ]
  },
  {
   "cell_type": "code",
   "execution_count": 57,
   "id": "913ecbf9-5473-4454-bca1-c575b7ad7d69",
   "metadata": {},
   "outputs": [
    {
     "data": {
      "text/plain": [
       "prcp     -0.107007\n",
       "tavg      0.873452\n",
       "tmax      0.929050\n",
       "tmin      0.614846\n",
       "target    1.000000\n",
       "Name: target, dtype: float64"
      ]
     },
     "execution_count": 57,
     "metadata": {},
     "output_type": "execute_result"
    }
   ],
   "source": [
    " core_weather.corr()[\"target\"]"
   ]
  },
  {
   "cell_type": "code",
   "execution_count": 60,
   "id": "31a7e1ea-ad38-4d92-930a-956d8bc77223",
   "metadata": {},
   "outputs": [
    {
     "data": {
      "text/html": [
       "<div>\n",
       "<style scoped>\n",
       "    .dataframe tbody tr th:only-of-type {\n",
       "        vertical-align: middle;\n",
       "    }\n",
       "\n",
       "    .dataframe tbody tr th {\n",
       "        vertical-align: top;\n",
       "    }\n",
       "\n",
       "    .dataframe thead th {\n",
       "        text-align: right;\n",
       "    }\n",
       "</style>\n",
       "<table border=\"1\" class=\"dataframe\">\n",
       "  <thead>\n",
       "    <tr style=\"text-align: right;\">\n",
       "      <th></th>\n",
       "      <th>prcp</th>\n",
       "      <th>tavg</th>\n",
       "      <th>tmax</th>\n",
       "      <th>tmin</th>\n",
       "      <th>target</th>\n",
       "    </tr>\n",
       "    <tr>\n",
       "      <th>DATE</th>\n",
       "      <th></th>\n",
       "      <th></th>\n",
       "      <th></th>\n",
       "      <th></th>\n",
       "      <th></th>\n",
       "    </tr>\n",
       "  </thead>\n",
       "  <tbody>\n",
       "    <tr>\n",
       "      <th>1970-01-01</th>\n",
       "      <td>0.0</td>\n",
       "      <td>73.0</td>\n",
       "      <td>88.0</td>\n",
       "      <td>61.0</td>\n",
       "      <td>88.0</td>\n",
       "    </tr>\n",
       "    <tr>\n",
       "      <th>1970-01-02</th>\n",
       "      <td>0.0</td>\n",
       "      <td>73.0</td>\n",
       "      <td>88.0</td>\n",
       "      <td>61.0</td>\n",
       "      <td>88.0</td>\n",
       "    </tr>\n",
       "    <tr>\n",
       "      <th>1970-01-03</th>\n",
       "      <td>0.0</td>\n",
       "      <td>73.0</td>\n",
       "      <td>88.0</td>\n",
       "      <td>61.0</td>\n",
       "      <td>88.0</td>\n",
       "    </tr>\n",
       "    <tr>\n",
       "      <th>1970-01-04</th>\n",
       "      <td>0.0</td>\n",
       "      <td>73.0</td>\n",
       "      <td>88.0</td>\n",
       "      <td>61.0</td>\n",
       "      <td>88.0</td>\n",
       "    </tr>\n",
       "    <tr>\n",
       "      <th>1970-01-05</th>\n",
       "      <td>0.0</td>\n",
       "      <td>73.0</td>\n",
       "      <td>88.0</td>\n",
       "      <td>61.0</td>\n",
       "      <td>88.0</td>\n",
       "    </tr>\n",
       "    <tr>\n",
       "      <th>...</th>\n",
       "      <td>...</td>\n",
       "      <td>...</td>\n",
       "      <td>...</td>\n",
       "      <td>...</td>\n",
       "      <td>...</td>\n",
       "    </tr>\n",
       "    <tr>\n",
       "      <th>2023-06-14</th>\n",
       "      <td>0.0</td>\n",
       "      <td>92.0</td>\n",
       "      <td>103.0</td>\n",
       "      <td>81.0</td>\n",
       "      <td>102.0</td>\n",
       "    </tr>\n",
       "    <tr>\n",
       "      <th>2023-06-15</th>\n",
       "      <td>0.0</td>\n",
       "      <td>92.0</td>\n",
       "      <td>102.0</td>\n",
       "      <td>80.0</td>\n",
       "      <td>102.0</td>\n",
       "    </tr>\n",
       "    <tr>\n",
       "      <th>2023-06-16</th>\n",
       "      <td>0.0</td>\n",
       "      <td>92.0</td>\n",
       "      <td>102.0</td>\n",
       "      <td>81.0</td>\n",
       "      <td>103.0</td>\n",
       "    </tr>\n",
       "    <tr>\n",
       "      <th>2023-06-17</th>\n",
       "      <td>0.0</td>\n",
       "      <td>91.0</td>\n",
       "      <td>103.0</td>\n",
       "      <td>81.0</td>\n",
       "      <td>102.0</td>\n",
       "    </tr>\n",
       "    <tr>\n",
       "      <th>2023-06-18</th>\n",
       "      <td>0.0</td>\n",
       "      <td>92.0</td>\n",
       "      <td>102.0</td>\n",
       "      <td>82.0</td>\n",
       "      <td>103.0</td>\n",
       "    </tr>\n",
       "  </tbody>\n",
       "</table>\n",
       "<p>18474 rows × 5 columns</p>\n",
       "</div>"
      ],
      "text/plain": [
       "            prcp  tavg   tmax  tmin  target\n",
       "DATE                                       \n",
       "1970-01-01   0.0  73.0   88.0  61.0    88.0\n",
       "1970-01-02   0.0  73.0   88.0  61.0    88.0\n",
       "1970-01-03   0.0  73.0   88.0  61.0    88.0\n",
       "1970-01-04   0.0  73.0   88.0  61.0    88.0\n",
       "1970-01-05   0.0  73.0   88.0  61.0    88.0\n",
       "...          ...   ...    ...   ...     ...\n",
       "2023-06-14   0.0  92.0  103.0  81.0   102.0\n",
       "2023-06-15   0.0  92.0  102.0  80.0   102.0\n",
       "2023-06-16   0.0  92.0  102.0  81.0   103.0\n",
       "2023-06-17   0.0  91.0  103.0  81.0   102.0\n",
       "2023-06-18   0.0  92.0  102.0  82.0   103.0\n",
       "\n",
       "[18474 rows x 5 columns]"
      ]
     },
     "execution_count": 60,
     "metadata": {},
     "output_type": "execute_result"
    }
   ],
   "source": [
    "core_weather"
   ]
  },
  {
   "cell_type": "code",
   "execution_count": null,
   "id": "60259430-f6f0-4a44-8809-5bf3ea1ba992",
   "metadata": {},
   "outputs": [],
   "source": []
  }
 ],
 "metadata": {
  "kernelspec": {
   "display_name": "Python 3 (ipykernel)",
   "language": "python",
   "name": "python3"
  },
  "language_info": {
   "codemirror_mode": {
    "name": "ipython",
    "version": 3
   },
   "file_extension": ".py",
   "mimetype": "text/x-python",
   "name": "python",
   "nbconvert_exporter": "python",
   "pygments_lexer": "ipython3",
   "version": "3.11.3"
  }
 },
 "nbformat": 4,
 "nbformat_minor": 5
}
